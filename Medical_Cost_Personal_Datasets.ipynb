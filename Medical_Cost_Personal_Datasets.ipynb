{
  "nbformat": 4,
  "nbformat_minor": 0,
  "metadata": {
    "colab": {
      "name": "Medical Cost Personal Datasets.ipynb",
      "provenance": [],
      "collapsed_sections": [
        "8FO63ELP3RNG"
      ],
      "toc_visible": true,
      "authorship_tag": "ABX9TyONCz1M1PjLjMT4hiGaTrxT",
      "include_colab_link": true
    },
    "kernelspec": {
      "name": "python3",
      "display_name": "Python 3"
    }
  },
  "cells": [
    {
      "cell_type": "markdown",
      "metadata": {
        "id": "view-in-github",
        "colab_type": "text"
      },
      "source": [
        "<a href=\"https://colab.research.google.com/github/biangomes/Gastos_Medicos/blob/main/Medical_Cost_Personal_Datasets.ipynb\" target=\"_parent\"><img src=\"https://colab.research.google.com/assets/colab-badge.svg\" alt=\"Open In Colab\"/></a>"
      ]
    },
    {
      "cell_type": "markdown",
      "metadata": {
        "id": "jh8OX6K1tjwN"
      },
      "source": [
        "# Projeto \"Custos Médicos\"\r\n",
        "\r\n",
        "Considera-se despesas médicas os pagamentos efetuados a médicos de qualquer especialidade, dentistas, psicólogos, fisioterapeutas, terapeutas ocupacionais e afins.\r\n",
        "\r\n"
      ]
    },
    {
      "cell_type": "code",
      "metadata": {
        "id": "zN7qSFr9ujwZ"
      },
      "source": [
        "# Importando as bibliotecas\r\n",
        "import pandas as pd\r\n",
        "import numpy as np\r\n",
        "import matplotlib.pyplot as plt\r\n",
        "import seaborn as sns\r\n",
        "import colorsys\r\n",
        "plt.style.use('seaborn-talk')\r\n",
        "import warnings\r\n",
        "warnings.filterwarnings('ignore')\r\n",
        "\r\n",
        "sns.set_style()\r\n",
        "%matplotlib inline\r\n"
      ],
      "execution_count": 2,
      "outputs": []
    },
    {
      "cell_type": "code",
      "metadata": {
        "colab": {
          "base_uri": "https://localhost:8080/",
          "height": 204
        },
        "id": "Y2Bl9IA-uyL4",
        "outputId": "659cce6b-1527-403e-904c-259df0cedd11"
      },
      "source": [
        "# Importando o arquivo como df\r\n",
        "df = pd.read_csv('insurance.csv')\r\n",
        "\r\n",
        "# Lendo as primeiras entradas\r\n",
        "df.head()"
      ],
      "execution_count": 16,
      "outputs": [
        {
          "output_type": "execute_result",
          "data": {
            "text/html": [
              "<div>\n",
              "<style scoped>\n",
              "    .dataframe tbody tr th:only-of-type {\n",
              "        vertical-align: middle;\n",
              "    }\n",
              "\n",
              "    .dataframe tbody tr th {\n",
              "        vertical-align: top;\n",
              "    }\n",
              "\n",
              "    .dataframe thead th {\n",
              "        text-align: right;\n",
              "    }\n",
              "</style>\n",
              "<table border=\"1\" class=\"dataframe\">\n",
              "  <thead>\n",
              "    <tr style=\"text-align: right;\">\n",
              "      <th></th>\n",
              "      <th>age</th>\n",
              "      <th>sex</th>\n",
              "      <th>bmi</th>\n",
              "      <th>children</th>\n",
              "      <th>smoker</th>\n",
              "      <th>region</th>\n",
              "      <th>charges</th>\n",
              "    </tr>\n",
              "  </thead>\n",
              "  <tbody>\n",
              "    <tr>\n",
              "      <th>0</th>\n",
              "      <td>19</td>\n",
              "      <td>female</td>\n",
              "      <td>27.900</td>\n",
              "      <td>0</td>\n",
              "      <td>yes</td>\n",
              "      <td>southwest</td>\n",
              "      <td>16884.92400</td>\n",
              "    </tr>\n",
              "    <tr>\n",
              "      <th>1</th>\n",
              "      <td>18</td>\n",
              "      <td>male</td>\n",
              "      <td>33.770</td>\n",
              "      <td>1</td>\n",
              "      <td>no</td>\n",
              "      <td>southeast</td>\n",
              "      <td>1725.55230</td>\n",
              "    </tr>\n",
              "    <tr>\n",
              "      <th>2</th>\n",
              "      <td>28</td>\n",
              "      <td>male</td>\n",
              "      <td>33.000</td>\n",
              "      <td>3</td>\n",
              "      <td>no</td>\n",
              "      <td>southeast</td>\n",
              "      <td>4449.46200</td>\n",
              "    </tr>\n",
              "    <tr>\n",
              "      <th>3</th>\n",
              "      <td>33</td>\n",
              "      <td>male</td>\n",
              "      <td>22.705</td>\n",
              "      <td>0</td>\n",
              "      <td>no</td>\n",
              "      <td>northwest</td>\n",
              "      <td>21984.47061</td>\n",
              "    </tr>\n",
              "    <tr>\n",
              "      <th>4</th>\n",
              "      <td>32</td>\n",
              "      <td>male</td>\n",
              "      <td>28.880</td>\n",
              "      <td>0</td>\n",
              "      <td>no</td>\n",
              "      <td>northwest</td>\n",
              "      <td>3866.85520</td>\n",
              "    </tr>\n",
              "  </tbody>\n",
              "</table>\n",
              "</div>"
            ],
            "text/plain": [
              "   age     sex     bmi  children smoker     region      charges\n",
              "0   19  female  27.900         0    yes  southwest  16884.92400\n",
              "1   18    male  33.770         1     no  southeast   1725.55230\n",
              "2   28    male  33.000         3     no  southeast   4449.46200\n",
              "3   33    male  22.705         0     no  northwest  21984.47061\n",
              "4   32    male  28.880         0     no  northwest   3866.85520"
            ]
          },
          "metadata": {
            "tags": []
          },
          "execution_count": 16
        }
      ]
    },
    {
      "cell_type": "markdown",
      "metadata": {
        "id": "sVlLnQ_Su6P9"
      },
      "source": [
        "**Dicionário das colunas:**\r\n",
        "\r\n",
        "- `age`: idade de cada consumidor do seguro;\r\n",
        "\r\n",
        "- `sex`: sexo do consumidor;\r\n",
        "\r\n",
        "- `bmi`: *body mass index*. No Brasil, é o índice de massa corpórea, **IMC**;\r\n",
        "\r\n",
        "- `children`: se o consumidor tem filhos ou não;\r\n",
        "\r\n",
        "- `smoker`: se o consumidor fuma ou não;\r\n",
        "\r\n",
        "- `region`: região que o consumidor mora;\r\n",
        "\r\n",
        "- `charges`: custos que o consumidor teve/tem com o seguro de saúde."
      ]
    },
    {
      "cell_type": "code",
      "metadata": {
        "id": "F62cnNFYvqGJ",
        "colab": {
          "base_uri": "https://localhost:8080/"
        },
        "outputId": "80f1bf5d-2540-43aa-f66c-5813899339f8"
      },
      "source": [
        "# Shape do dataset\r\n",
        "print(f\"Variáveis: {df.shape[1]}\\nDados inseridos: {df.shape[0]}\")"
      ],
      "execution_count": 5,
      "outputs": [
        {
          "output_type": "stream",
          "text": [
            "Variáveis: 7\n",
            "Dados inseridos: 1338\n"
          ],
          "name": "stdout"
        }
      ]
    },
    {
      "cell_type": "code",
      "metadata": {
        "colab": {
          "base_uri": "https://localhost:8080/"
        },
        "id": "Gl5R9cj4vr1E",
        "outputId": "8927db27-85af-45f5-8d53-1878ff46b134"
      },
      "source": [
        "# Verificando quantos dados nulos existem\r\n",
        "df.isnull().sum()"
      ],
      "execution_count": 6,
      "outputs": [
        {
          "output_type": "execute_result",
          "data": {
            "text/plain": [
              "age         0\n",
              "sex         0\n",
              "bmi         0\n",
              "children    0\n",
              "smoker      0\n",
              "region      0\n",
              "charges     0\n",
              "dtype: int64"
            ]
          },
          "metadata": {
            "tags": []
          },
          "execution_count": 6
        }
      ]
    },
    {
      "cell_type": "markdown",
      "metadata": {
        "id": "ggS5RKUt1F78"
      },
      "source": [
        "A célula anterior nos mostrou que não existem valores nulos no nosso conjunto de dados. Para ficar mais fácil, vamos renomear as colunas"
      ]
    },
    {
      "cell_type": "code",
      "metadata": {
        "id": "unlGWgdTv29r"
      },
      "source": [
        "df.rename(columns={'age': 'idade', 'sex': 'sexo', 'bmi': 'imc', 'children': 'filhos', 'smoker': 'fumante', 'region': 'regiao', 'charges': 'custos'}, inplace=True)"
      ],
      "execution_count": 17,
      "outputs": []
    },
    {
      "cell_type": "code",
      "metadata": {
        "colab": {
          "base_uri": "https://localhost:8080/",
          "height": 572
        },
        "id": "eZT8mTNC1y-U",
        "outputId": "644efbdb-c577-422f-9ccd-07cb8d4364f2"
      },
      "source": [
        "# Visualizando o tipo dos dados\r\n",
        "print(df.dtypes, '\\n')\r\n",
        "\r\n",
        "# Visualizando DataFrame\r\n",
        "df"
      ],
      "execution_count": 13,
      "outputs": [
        {
          "output_type": "stream",
          "text": [
            "idade        int64\n",
            "sexo        object\n",
            "imc        float64\n",
            "filhos       int64\n",
            "fumante     object\n",
            "regiao      object\n",
            "custos     float64\n",
            "dtype: object \n",
            "\n"
          ],
          "name": "stdout"
        },
        {
          "output_type": "execute_result",
          "data": {
            "text/html": [
              "<div>\n",
              "<style scoped>\n",
              "    .dataframe tbody tr th:only-of-type {\n",
              "        vertical-align: middle;\n",
              "    }\n",
              "\n",
              "    .dataframe tbody tr th {\n",
              "        vertical-align: top;\n",
              "    }\n",
              "\n",
              "    .dataframe thead th {\n",
              "        text-align: right;\n",
              "    }\n",
              "</style>\n",
              "<table border=\"1\" class=\"dataframe\">\n",
              "  <thead>\n",
              "    <tr style=\"text-align: right;\">\n",
              "      <th></th>\n",
              "      <th>idade</th>\n",
              "      <th>sexo</th>\n",
              "      <th>imc</th>\n",
              "      <th>filhos</th>\n",
              "      <th>fumante</th>\n",
              "      <th>regiao</th>\n",
              "      <th>custos</th>\n",
              "    </tr>\n",
              "  </thead>\n",
              "  <tbody>\n",
              "    <tr>\n",
              "      <th>0</th>\n",
              "      <td>19</td>\n",
              "      <td>female</td>\n",
              "      <td>27.900</td>\n",
              "      <td>0</td>\n",
              "      <td>yes</td>\n",
              "      <td>southwest</td>\n",
              "      <td>16884.92400</td>\n",
              "    </tr>\n",
              "    <tr>\n",
              "      <th>1</th>\n",
              "      <td>18</td>\n",
              "      <td>male</td>\n",
              "      <td>33.770</td>\n",
              "      <td>1</td>\n",
              "      <td>no</td>\n",
              "      <td>southeast</td>\n",
              "      <td>1725.55230</td>\n",
              "    </tr>\n",
              "    <tr>\n",
              "      <th>2</th>\n",
              "      <td>28</td>\n",
              "      <td>male</td>\n",
              "      <td>33.000</td>\n",
              "      <td>3</td>\n",
              "      <td>no</td>\n",
              "      <td>southeast</td>\n",
              "      <td>4449.46200</td>\n",
              "    </tr>\n",
              "    <tr>\n",
              "      <th>3</th>\n",
              "      <td>33</td>\n",
              "      <td>male</td>\n",
              "      <td>22.705</td>\n",
              "      <td>0</td>\n",
              "      <td>no</td>\n",
              "      <td>northwest</td>\n",
              "      <td>21984.47061</td>\n",
              "    </tr>\n",
              "    <tr>\n",
              "      <th>4</th>\n",
              "      <td>32</td>\n",
              "      <td>male</td>\n",
              "      <td>28.880</td>\n",
              "      <td>0</td>\n",
              "      <td>no</td>\n",
              "      <td>northwest</td>\n",
              "      <td>3866.85520</td>\n",
              "    </tr>\n",
              "    <tr>\n",
              "      <th>...</th>\n",
              "      <td>...</td>\n",
              "      <td>...</td>\n",
              "      <td>...</td>\n",
              "      <td>...</td>\n",
              "      <td>...</td>\n",
              "      <td>...</td>\n",
              "      <td>...</td>\n",
              "    </tr>\n",
              "    <tr>\n",
              "      <th>1333</th>\n",
              "      <td>50</td>\n",
              "      <td>male</td>\n",
              "      <td>30.970</td>\n",
              "      <td>3</td>\n",
              "      <td>no</td>\n",
              "      <td>northwest</td>\n",
              "      <td>10600.54830</td>\n",
              "    </tr>\n",
              "    <tr>\n",
              "      <th>1334</th>\n",
              "      <td>18</td>\n",
              "      <td>female</td>\n",
              "      <td>31.920</td>\n",
              "      <td>0</td>\n",
              "      <td>no</td>\n",
              "      <td>northeast</td>\n",
              "      <td>2205.98080</td>\n",
              "    </tr>\n",
              "    <tr>\n",
              "      <th>1335</th>\n",
              "      <td>18</td>\n",
              "      <td>female</td>\n",
              "      <td>36.850</td>\n",
              "      <td>0</td>\n",
              "      <td>no</td>\n",
              "      <td>southeast</td>\n",
              "      <td>1629.83350</td>\n",
              "    </tr>\n",
              "    <tr>\n",
              "      <th>1336</th>\n",
              "      <td>21</td>\n",
              "      <td>female</td>\n",
              "      <td>25.800</td>\n",
              "      <td>0</td>\n",
              "      <td>no</td>\n",
              "      <td>southwest</td>\n",
              "      <td>2007.94500</td>\n",
              "    </tr>\n",
              "    <tr>\n",
              "      <th>1337</th>\n",
              "      <td>61</td>\n",
              "      <td>female</td>\n",
              "      <td>29.070</td>\n",
              "      <td>0</td>\n",
              "      <td>yes</td>\n",
              "      <td>northwest</td>\n",
              "      <td>29141.36030</td>\n",
              "    </tr>\n",
              "  </tbody>\n",
              "</table>\n",
              "<p>1338 rows × 7 columns</p>\n",
              "</div>"
            ],
            "text/plain": [
              "      idade    sexo     imc  filhos fumante     regiao       custos\n",
              "0        19  female  27.900       0     yes  southwest  16884.92400\n",
              "1        18    male  33.770       1      no  southeast   1725.55230\n",
              "2        28    male  33.000       3      no  southeast   4449.46200\n",
              "3        33    male  22.705       0      no  northwest  21984.47061\n",
              "4        32    male  28.880       0      no  northwest   3866.85520\n",
              "...     ...     ...     ...     ...     ...        ...          ...\n",
              "1333     50    male  30.970       3      no  northwest  10600.54830\n",
              "1334     18  female  31.920       0      no  northeast   2205.98080\n",
              "1335     18  female  36.850       0      no  southeast   1629.83350\n",
              "1336     21  female  25.800       0      no  southwest   2007.94500\n",
              "1337     61  female  29.070       0     yes  northwest  29141.36030\n",
              "\n",
              "[1338 rows x 7 columns]"
            ]
          },
          "metadata": {
            "tags": []
          },
          "execution_count": 13
        }
      ]
    },
    {
      "cell_type": "markdown",
      "metadata": {
        "id": "RF0yXt18xgEJ"
      },
      "source": [
        "É muito comum em problemas amostrais dentro da estatística, a presença de valores **discrepantes**, ou melhor, **_outliers_**. Estes valores fogem totalmente do \"padrão\" do dataset e muitas vezes pode ser um problema, uma vez que interfere nos resultados dos teses.\r\n",
        "\r\n",
        "Vamos verificar a presença de *outliers*."
      ]
    },
    {
      "cell_type": "code",
      "metadata": {
        "colab": {
          "base_uri": "https://localhost:8080/",
          "height": 297
        },
        "id": "bW8KmHr8xgmL",
        "outputId": "6b9d5b50-c34d-4745-88f0-5f7cbc486929"
      },
      "source": [
        "df.describe()"
      ],
      "execution_count": 20,
      "outputs": [
        {
          "output_type": "execute_result",
          "data": {
            "text/html": [
              "<div>\n",
              "<style scoped>\n",
              "    .dataframe tbody tr th:only-of-type {\n",
              "        vertical-align: middle;\n",
              "    }\n",
              "\n",
              "    .dataframe tbody tr th {\n",
              "        vertical-align: top;\n",
              "    }\n",
              "\n",
              "    .dataframe thead th {\n",
              "        text-align: right;\n",
              "    }\n",
              "</style>\n",
              "<table border=\"1\" class=\"dataframe\">\n",
              "  <thead>\n",
              "    <tr style=\"text-align: right;\">\n",
              "      <th></th>\n",
              "      <th>idade</th>\n",
              "      <th>imc</th>\n",
              "      <th>filhos</th>\n",
              "      <th>custos</th>\n",
              "    </tr>\n",
              "  </thead>\n",
              "  <tbody>\n",
              "    <tr>\n",
              "      <th>count</th>\n",
              "      <td>1338.000000</td>\n",
              "      <td>1338.000000</td>\n",
              "      <td>1338.000000</td>\n",
              "      <td>1338.000000</td>\n",
              "    </tr>\n",
              "    <tr>\n",
              "      <th>mean</th>\n",
              "      <td>39.207025</td>\n",
              "      <td>30.663397</td>\n",
              "      <td>1.094918</td>\n",
              "      <td>13270.422265</td>\n",
              "    </tr>\n",
              "    <tr>\n",
              "      <th>std</th>\n",
              "      <td>14.049960</td>\n",
              "      <td>6.098187</td>\n",
              "      <td>1.205493</td>\n",
              "      <td>12110.011237</td>\n",
              "    </tr>\n",
              "    <tr>\n",
              "      <th>min</th>\n",
              "      <td>18.000000</td>\n",
              "      <td>15.960000</td>\n",
              "      <td>0.000000</td>\n",
              "      <td>1121.873900</td>\n",
              "    </tr>\n",
              "    <tr>\n",
              "      <th>25%</th>\n",
              "      <td>27.000000</td>\n",
              "      <td>26.296250</td>\n",
              "      <td>0.000000</td>\n",
              "      <td>4740.287150</td>\n",
              "    </tr>\n",
              "    <tr>\n",
              "      <th>50%</th>\n",
              "      <td>39.000000</td>\n",
              "      <td>30.400000</td>\n",
              "      <td>1.000000</td>\n",
              "      <td>9382.033000</td>\n",
              "    </tr>\n",
              "    <tr>\n",
              "      <th>75%</th>\n",
              "      <td>51.000000</td>\n",
              "      <td>34.693750</td>\n",
              "      <td>2.000000</td>\n",
              "      <td>16639.912515</td>\n",
              "    </tr>\n",
              "    <tr>\n",
              "      <th>max</th>\n",
              "      <td>64.000000</td>\n",
              "      <td>53.130000</td>\n",
              "      <td>5.000000</td>\n",
              "      <td>63770.428010</td>\n",
              "    </tr>\n",
              "  </tbody>\n",
              "</table>\n",
              "</div>"
            ],
            "text/plain": [
              "             idade          imc       filhos        custos\n",
              "count  1338.000000  1338.000000  1338.000000   1338.000000\n",
              "mean     39.207025    30.663397     1.094918  13270.422265\n",
              "std      14.049960     6.098187     1.205493  12110.011237\n",
              "min      18.000000    15.960000     0.000000   1121.873900\n",
              "25%      27.000000    26.296250     0.000000   4740.287150\n",
              "50%      39.000000    30.400000     1.000000   9382.033000\n",
              "75%      51.000000    34.693750     2.000000  16639.912515\n",
              "max      64.000000    53.130000     5.000000  63770.428010"
            ]
          },
          "metadata": {
            "tags": []
          },
          "execution_count": 20
        }
      ]
    },
    {
      "cell_type": "markdown",
      "metadata": {
        "id": "TD4cCK4cxqhr"
      },
      "source": [
        "Fazendo uma leitura abaixo do resultado da célula acima, temos o seguinte:\r\n",
        "\r\n",
        "> **Obs.:** lembre-se que existem variáveis binárias (sexo e fumante), portanto alguns valores não devem existir.\r\n",
        "\r\n",
        "- **count**: contagem dos valores, ou seja, **quantos valores existem. Como todos possuem a mesma quantidade, sabemos que não existem dados faltantes em nenhuma das colunas.\r\n",
        "\r\n",
        "- **mean**: se refere à média dos valores. Podemos utilizá-la para fins de comparação quando existir a hipótese de *outlier*.\r\n",
        "\r\n",
        "- **std**: representa o **desvio padrão**, o quão dispersos os dados estão da média.\r\n",
        "\r\n",
        "- **min**: menor valor.\r\n",
        "\r\n",
        "- **25%**: 1/4 do quartil.\r\n",
        "\r\n",
        "- **50%**: 1/2 do quartil, **mediana**.\r\n",
        "\r\n",
        "- **75%**: 3/4 do quartil.\r\n",
        "\r\n",
        "- **max**: 4/4 do quartil, maior valor.\r\n",
        "\r\n",
        "*Existem outliers?*\r\n",
        "\r\n",
        "A priori, os dados não parecem estar discrepantes. Não ao ponto de induzir a nossa análise ao erro."
      ]
    },
    {
      "cell_type": "markdown",
      "metadata": {
        "id": "s1OtIOgCEHER"
      },
      "source": [
        "Como as colunas `sexo` e `fumante` só possuem apenas **dois valores** (female ou male e yes ou no, respectivamente), portanto podemos transformar os dados da seguinte forma:\r\n",
        "\r\n",
        "- female = 1\r\n",
        "\r\n",
        "- male = 0\r\n",
        "\r\n",
        "- fumante = 1\r\n",
        "\r\n",
        "- não fumante = 0\r\n"
      ]
    },
    {
      "cell_type": "code",
      "metadata": {
        "colab": {
          "base_uri": "https://localhost:8080/",
          "height": 204
        },
        "id": "n4wOoKmDETvA",
        "outputId": "28e41388-ebc9-4ec9-dea9-3e03bcb2454d"
      },
      "source": [
        "# Convertendo primeiro a coluna sexo\r\n",
        "df['sexo'].replace(['male', 'female'], [0,1], inplace=True)\r\n",
        "\r\n",
        "# Convertendo a coluna fumante\r\n",
        "df['fumante'].replace(['no', 'yes'], [0, 1], inplace=True)\r\n",
        "\r\n",
        "# Visualizando o df\r\n",
        "df.head()"
      ],
      "execution_count": 21,
      "outputs": [
        {
          "output_type": "execute_result",
          "data": {
            "text/html": [
              "<div>\n",
              "<style scoped>\n",
              "    .dataframe tbody tr th:only-of-type {\n",
              "        vertical-align: middle;\n",
              "    }\n",
              "\n",
              "    .dataframe tbody tr th {\n",
              "        vertical-align: top;\n",
              "    }\n",
              "\n",
              "    .dataframe thead th {\n",
              "        text-align: right;\n",
              "    }\n",
              "</style>\n",
              "<table border=\"1\" class=\"dataframe\">\n",
              "  <thead>\n",
              "    <tr style=\"text-align: right;\">\n",
              "      <th></th>\n",
              "      <th>idade</th>\n",
              "      <th>sexo</th>\n",
              "      <th>imc</th>\n",
              "      <th>filhos</th>\n",
              "      <th>fumante</th>\n",
              "      <th>regiao</th>\n",
              "      <th>custos</th>\n",
              "    </tr>\n",
              "  </thead>\n",
              "  <tbody>\n",
              "    <tr>\n",
              "      <th>0</th>\n",
              "      <td>19</td>\n",
              "      <td>1</td>\n",
              "      <td>27.900</td>\n",
              "      <td>0</td>\n",
              "      <td>1</td>\n",
              "      <td>southwest</td>\n",
              "      <td>16884.92400</td>\n",
              "    </tr>\n",
              "    <tr>\n",
              "      <th>1</th>\n",
              "      <td>18</td>\n",
              "      <td>0</td>\n",
              "      <td>33.770</td>\n",
              "      <td>1</td>\n",
              "      <td>0</td>\n",
              "      <td>southeast</td>\n",
              "      <td>1725.55230</td>\n",
              "    </tr>\n",
              "    <tr>\n",
              "      <th>2</th>\n",
              "      <td>28</td>\n",
              "      <td>0</td>\n",
              "      <td>33.000</td>\n",
              "      <td>3</td>\n",
              "      <td>0</td>\n",
              "      <td>southeast</td>\n",
              "      <td>4449.46200</td>\n",
              "    </tr>\n",
              "    <tr>\n",
              "      <th>3</th>\n",
              "      <td>33</td>\n",
              "      <td>0</td>\n",
              "      <td>22.705</td>\n",
              "      <td>0</td>\n",
              "      <td>0</td>\n",
              "      <td>northwest</td>\n",
              "      <td>21984.47061</td>\n",
              "    </tr>\n",
              "    <tr>\n",
              "      <th>4</th>\n",
              "      <td>32</td>\n",
              "      <td>0</td>\n",
              "      <td>28.880</td>\n",
              "      <td>0</td>\n",
              "      <td>0</td>\n",
              "      <td>northwest</td>\n",
              "      <td>3866.85520</td>\n",
              "    </tr>\n",
              "  </tbody>\n",
              "</table>\n",
              "</div>"
            ],
            "text/plain": [
              "   idade  sexo     imc  filhos  fumante     regiao       custos\n",
              "0     19     1  27.900       0        1  southwest  16884.92400\n",
              "1     18     0  33.770       1        0  southeast   1725.55230\n",
              "2     28     0  33.000       3        0  southeast   4449.46200\n",
              "3     33     0  22.705       0        0  northwest  21984.47061\n",
              "4     32     0  28.880       0        0  northwest   3866.85520"
            ]
          },
          "metadata": {
            "tags": []
          },
          "execution_count": 21
        }
      ]
    },
    {
      "cell_type": "markdown",
      "metadata": {
        "id": "gKTI-7-O2I_u"
      },
      "source": [
        "### Hipótese 1: fumantes arcam com mais despesas médicas do que não fumantes.\r\n",
        "\r\n",
        "Queremos verificar se existe correlação entre pessoas que fumam e o custo em despesas médicas. Se essa correlação existe, ela é perfeita?\r\n",
        "\r\n",
        "\r\n",
        "Antes de partirmos diretamente para o código, precisamos fazer uma reflexão estatística antes. A variável **`fumante`**, embora tenha como valor `1` ou `0` (*números, concorda?*), ela é categórica. Ora, lembra que demos um `replace` para os valores de `male` e `female`, em que ficou `0` e `1`, respectivamente? Estes números, embora números, têm significados categóricos.\r\n",
        "\r\n",
        "Já a variável **`custos`** é numérica (suponho que não exista dúvidas quanto a isso).\r\n",
        "\r\n",
        "**Qual a implicação disso?**\r\n",
        "\r\n",
        "A implicação é: **precisamos calcular a correlação que permita ser atribuída em uma variável categórica e uma numérica.**\r\n",
        "\r\n",
        "---\r\n",
        "#### Se você não sabe o que é correlação...\r\n",
        "\r\n",
        "**Correlação** é o quanto e como duas variáveis estão relacionadas. Estatisticamente, quer dizer o quanto uma variável está **associada** a outra. Também quer dizer que é linear, uma variável cresce (ou decresce) uma quantidade fixa em relação a outra. O **grau de correlação** é um escalar $ 0 < corr < 1 $ que mede **quão** as variáveis estão correlacionadas (se estiverem, rs). \r\n",
        "\r\n",
        "Com a imagem abaixo, eu simplifico os tipos de correlação e os seus valores.\r\n",
        "\r\n",
        "\r\n",
        "![image.png](data:image/png;base64,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)\r\n",
        "\r\n",
        "\r\n",
        "\r\n",
        "\r\n",
        "---\r\n",
        "\r\n",
        "Eu estou lhe explicando essa situação, porque ao fazer este trabalho eu fiquei em dúvida também. Se você é iniciante como eu, não se preocupe, pois estamos no mesmo barco!\r\n",
        "\r\n",
        "Pesquisando na literatura (vide *stackoverflow* e correlatos) sobre a resolução de problemas como esse, encontrei o coeficiente de correção Point-Biserial cujo as propriedades permitem calcular o coeficiente de correlação entre uma variável binária (0 ou 1) e uma variável numérica. A biblioteca `SciPy` permite tal implementação, de acordo com o código abaixo:\r\n",
        "\r\n",
        "```\r\n",
        "from scipy import stats\r\n",
        "\r\n",
        "stats.pointbiserialr(x, y)\r\n",
        "```\r\n",
        "\r\n",
        "Ela retorna uma tupla `(correlation = , pvalue = )`.\r\n",
        "\r\n",
        "Uma curiosidade é que usando o que usei antes:\r\n",
        "\r\n",
        "```\r\n",
        "correlation = df[['fumante', 'custos']].corr(method='pearson')\r\n",
        "```\r\n",
        "os resultados foram bem próximos. O primeiro deu `0.7872` e o segundo deu `0.79`."
      ]
    },
    {
      "cell_type": "code",
      "metadata": {
        "colab": {
          "base_uri": "https://localhost:8080/",
          "height": 279
        },
        "id": "tBaUhj7KHrJ7",
        "outputId": "1eaee835-0f00-4471-99df-a120a3a9d24e"
      },
      "source": [
        "# Verificando correlacao\r\n",
        "correlation = df[['fumante', 'custos']].corr(method='pearson')\r\n",
        "\r\n",
        "sns.heatmap(correlation, cmap='RdBu', fmt='.2f', square=True, linecolor='white', annot=True);"
      ],
      "execution_count": 22,
      "outputs": [
        {
          "output_type": "display_data",
          "data": {
            "image/png": "[encoded data removed]",
            "text/plain": [
              "<Figure size 432x288 with 2 Axes>"
            ]
          },
          "metadata": {
            "tags": [],
            "needs_background": "light"
          }
        }
      ]
    },
    {
      "cell_type": "markdown",
      "metadata": {
        "id": "vDp0NWhDWUWe"
      },
      "source": [
        "Dado a explicação anterior e o gráfico de calor, podemos concluir que **existe uma correlação positiva entre fumantes e custos médicos, de tal forma que quem fuma finda tendo maiores custos com despesas médicas**."
      ]
    },
    {
      "cell_type": "code",
      "metadata": {
        "colab": {
          "base_uri": "https://localhost:8080/",
          "height": 387
        },
        "id": "e35f0yCuWy_P",
        "outputId": "7716aa4e-023b-4265-d011-6a553056439d"
      },
      "source": [
        "# Plotando scatter plot\r\n",
        "sns.catplot(x=df.fumante, y=df.custos, kind='box', data=df);"
      ],
      "execution_count": null,
      "outputs": [
        {
          "output_type": "display_data",
          "data": {
            "image/png": "[encoded data removed]",
            "text/plain": [
              "<Figure size 360x360 with 1 Axes>"
            ]
          },
          "metadata": {
            "tags": [],
            "needs_background": "light"
          }
        }
      ]
    },
    {
      "cell_type": "code",
      "metadata": {
        "id": "jEfL-GVFBLrU"
      },
      "source": [
        "# Tentar fazer uma limpeza dos dados\r\n",
        "df[\"outlier\"] = 0\r\n",
        "df.loc[(df.fumante == 0) & (df.custos > 22000), \"outlier\"] = 1"
      ],
      "execution_count": 47,
      "outputs": []
    },
    {
      "cell_type": "markdown",
      "metadata": {
        "id": "RpEb7S2w3GDe"
      },
      "source": [
        "O gráfico acima nos mostra que os fumantes, de fato, têm maiores custos com despesas médicas."
      ]
    },
    {
      "cell_type": "markdown",
      "metadata": {
        "id": "8FO63ELP3RNG"
      },
      "source": [
        "### Hipótese 2: existe uma relação positiva entre a quantidade de filhos e os custos com despesas médicas?\r\n",
        "\r\n",
        "O que eu quero dizer com isso é: pessoas que tem mais filhos que as outras gastam, em uma quantidade proporcional, comparado às que não têm filhos?\r\n",
        "\r\n",
        "**Como vamos fazer isso?**\r\n",
        "\r\n",
        "Podemos filtrar as colunas `filhos` e `custos`, em que as duas são variáveis numéricas."
      ]
    },
    {
      "cell_type": "code",
      "metadata": {
        "colab": {
          "base_uri": "https://localhost:8080/",
          "height": 279
        },
        "id": "sy3dyBZ742HX",
        "outputId": "dd29be4a-fbe3-47f6-8d81-ecff063fcd4b"
      },
      "source": [
        "# Coeficiente de correlação\r\n",
        "correlation2 = df[['filhos', 'custos']].corr()\r\n",
        "\r\n",
        "# Mapa de calor da variavel correlation2\r\n",
        "sns.heatmap(correlation2, cmap='RdBu', fmt='.2f', square=True, linecolor='white', annot=True);"
      ],
      "execution_count": 25,
      "outputs": [
        {
          "output_type": "display_data",
          "data": {
            "image/png": "[encoded data removed]",
            "text/plain": [
              "<Figure size 432x288 with 2 Axes>"
            ]
          },
          "metadata": {
            "tags": [],
            "needs_background": "light"
          }
        }
      ]
    },
    {
      "cell_type": "code",
      "metadata": {
        "colab": {
          "base_uri": "https://localhost:8080/",
          "height": 292
        },
        "id": "dizf9NrN5Ndz",
        "outputId": "9fdb8802-268d-4bdd-b1ea-da260d0a0f84"
      },
      "source": [
        "# Grafico de dispersao\r\n",
        "sns.scatterplot(x=df.filhos, y=df.custos, data=df.custos);"
      ],
      "execution_count": 30,
      "outputs": [
        {
          "output_type": "display_data",
          "data": {
            "image/png": "[encoded data removed]",
            "text/plain": [
              "<Figure size 432x288 with 1 Axes>"
            ]
          },
          "metadata": {
            "tags": [],
            "needs_background": "light"
          }
        }
      ]
    }
  ]
}